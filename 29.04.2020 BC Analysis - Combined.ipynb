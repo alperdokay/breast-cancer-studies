{
 "cells": [
  {
   "cell_type": "code",
   "execution_count": 16,
   "metadata": {},
   "outputs": [],
   "source": [
    "import datetime\n",
    "from sklearn_utils.utils import SkUtilsIO,filter_by_label\n",
    "from sklearn.model_selection import train_test_split\n",
    "from sklearn.linear_model import LogisticRegression\n",
    "from sklearn.metrics import confusion_matrix, classification_report\n",
    "from sklearn.model_selection import cross_val_score, StratifiedKFold\n",
    "from sklearn.ensemble import RandomForestClassifier\n",
    "from sklearn.model_selection import GridSearchCV\n",
    "from sklearn.svm import SVC\n",
    "import numpy as np\n",
    "import pandas as pd\n",
    "from sklearn import preprocessing\n",
    "import warnings\n",
    "warnings.simplefilter(action='ignore', category=FutureWarning)\n",
    "warnings.simplefilter(action='ignore', category=DeprecationWarning)"
   ]
  },
  {
   "cell_type": "code",
   "execution_count": 17,
   "metadata": {},
   "outputs": [],
   "source": [
    "X, y = SkUtilsIO('BC.csv').from_csv(\n",
    "    label_column='stage')\n",
    "y = ['healthy' if i == 'h' else 'bc' for i in y]"
   ]
  },
  {
   "cell_type": "code",
   "execution_count": 18,
   "metadata": {},
   "outputs": [],
   "source": [
    "new_y = []\n",
    "for item in y:\n",
    "    if item == \"bc\":\n",
    "        new_y.append(1)\n",
    "    else:\n",
    "        new_y.append(0)\n",
    "np_y_new = np.array(new_y)"
   ]
  },
  {
   "cell_type": "code",
   "execution_count": 19,
   "metadata": {},
   "outputs": [],
   "source": [
    "X_df = pd.read_excel('combined.xlsx')"
   ]
  },
  {
   "cell_type": "code",
   "execution_count": 20,
   "metadata": {},
   "outputs": [],
   "source": [
    "X_train, X_test, y_train, y_test = train_test_split(np.nan_to_num(X_df), y, test_size=0.1, random_state=42)"
   ]
  },
  {
   "cell_type": "markdown",
   "metadata": {},
   "source": [
    "Logistic Regression"
   ]
  },
  {
   "cell_type": "code",
   "execution_count": 21,
   "metadata": {},
   "outputs": [
    {
     "name": "stdout",
     "output_type": "stream",
     "text": [
      "kfold test: [0.90909091 0.86363636 0.90909091 0.86363636 0.90909091 0.72727273\n",
      " 0.9047619  1.         0.8        0.9       ]\n",
      "mean: 0.879\n",
      "std: 0.069\n"
     ]
    }
   ],
   "source": [
    "c_space = np.logspace(-5, 8, 15)\n",
    "param_grid = {'C': c_space}\n",
    "logreg = LogisticRegression(C=0.3e-6)\n",
    "logreg_cv = GridSearchCV(logreg, param_grid, cv=5)\n",
    "logreg_cv.fit(X_train,y_train)\n",
    "y_pred = logreg_cv.predict(X_test)\n",
    "kf = StratifiedKFold(n_splits=10)\n",
    "log_scores = cross_val_score(logreg_cv, np.nan_to_num(X_df), np_y_new, cv=kf, scoring='f1_micro')\n",
    "print('kfold test: %s' % log_scores)\n",
    "print('mean: %s' % log_scores.mean().round(3))\n",
    "print('std: %s' % log_scores.std().round(3))"
   ]
  },
  {
   "cell_type": "markdown",
   "metadata": {},
   "source": [
    "Random Forest"
   ]
  },
  {
   "cell_type": "code",
   "execution_count": 22,
   "metadata": {},
   "outputs": [
    {
     "name": "stdout",
     "output_type": "stream",
     "text": [
      "kfold test: [0.86363636 0.86363636 0.81818182 0.90909091 0.81818182 1.\n",
      " 0.9047619  1.         0.9        0.8       ]\n",
      "mean: 0.888\n",
      "std: 0.067\n"
     ]
    }
   ],
   "source": [
    "rf = RandomForestClassifier(max_depth=4, random_state=0)\n",
    "rf.fit(X_train, y_train)\n",
    "kf = StratifiedKFold(n_splits=10)\n",
    "rf_scores = cross_val_score(rf, np.nan_to_num(X_df), np_y_new, cv=kf, scoring='f1_micro')\n",
    "print('kfold test: %s' % rf_scores)\n",
    "print('mean: %s' % rf_scores.mean().round(3))\n",
    "print('std: %s' % rf_scores.std().round(3))"
   ]
  },
  {
   "cell_type": "markdown",
   "metadata": {},
   "source": [
    "SVM"
   ]
  },
  {
   "cell_type": "code",
   "execution_count": 23,
   "metadata": {},
   "outputs": [
    {
     "name": "stdout",
     "output_type": "stream",
     "text": [
      "kfold test: [0.63636364 0.63636364 0.63636364 0.63636364 0.63636364 0.63636364\n",
      " 0.66666667 0.66666667 0.65       0.65      ]\n",
      "mean: 0.645\n",
      "std: 0.012\n"
     ]
    }
   ],
   "source": [
    "svm = SVC(gamma=1)\n",
    "svm.fit(X_train, y_train)\n",
    "kf = StratifiedKFold(n_splits=10)\n",
    "svm_scores = cross_val_score(svm, np.nan_to_num(X_df), np_y_new, cv=kf, scoring='f1_micro')\n",
    "print('kfold test: %s' % svm_scores)\n",
    "print('mean: %s' % svm_scores.mean().round(3))\n",
    "print('std: %s' % svm_scores.std().round(3))"
   ]
  },
  {
   "cell_type": "code",
   "execution_count": 24,
   "metadata": {},
   "outputs": [],
   "source": [
    "kf = StratifiedKFold(n_splits=10, random_state=43)\n",
    "logreg = LogisticRegression(C=0.3e-6)\n",
    "logreg_cv_split = GridSearchCV(logreg, param_grid, cv=5)\n",
    "logreg_results = []\n",
    "for train_index, test_index in kf.split(np.nan_to_num(X_df), np_y_new):\n",
    "        X_train, y_train= np.nan_to_num(X_df)[train_index], np_y_new[train_index]\n",
    "        X_test, y_test= np.nan_to_num(X_df)[test_index], np_y_new[test_index]\n",
    "        \n",
    "        clf = logreg_cv_split.fit(X_train, y_train)\n",
    "        # print(classification_report(clf.predict(X_test), y_test))\n",
    "        logreg_results.append(classification_report(clf.predict(X_test), y_test))"
   ]
  },
  {
   "cell_type": "code",
   "execution_count": 25,
   "metadata": {},
   "outputs": [],
   "source": [
    "rf_results = []\n",
    "kf = StratifiedKFold(n_splits=10, random_state=43)\n",
    "randomforest_split = RandomForestClassifier(max_depth=4, random_state=0)\n",
    "for train_index, test_index in kf.split(np.nan_to_num(X_df), np_y_new):\n",
    "        X_train, y_train= np.nan_to_num(X_df)[train_index], np_y_new[train_index]\n",
    "        X_test, y_test= np.nan_to_num(X_df)[test_index], np_y_new[test_index]\n",
    "        \n",
    "        clf = randomforest_split.fit(X_train, y_train)\n",
    "        # print(classification_report(clf.predict(X_test), y_test))\n",
    "        rf_results.append(classification_report(clf.predict(X_test), y_test))"
   ]
  },
  {
   "cell_type": "code",
   "execution_count": 26,
   "metadata": {},
   "outputs": [
    {
     "name": "stderr",
     "output_type": "stream",
     "text": [
      "C:\\Users\\alperdokay\\AppData\\Local\\Continuum\\anaconda3\\lib\\site-packages\\sklearn\\metrics\\classification.py:1439: UndefinedMetricWarning: Recall and F-score are ill-defined and being set to 0.0 in labels with no true samples.\n",
      "  'recall', 'true', average, warn_for)\n",
      "C:\\Users\\alperdokay\\AppData\\Local\\Continuum\\anaconda3\\lib\\site-packages\\sklearn\\metrics\\classification.py:1439: UndefinedMetricWarning: Recall and F-score are ill-defined and being set to 0.0 in labels with no true samples.\n",
      "  'recall', 'true', average, warn_for)\n",
      "C:\\Users\\alperdokay\\AppData\\Local\\Continuum\\anaconda3\\lib\\site-packages\\sklearn\\metrics\\classification.py:1439: UndefinedMetricWarning: Recall and F-score are ill-defined and being set to 0.0 in labels with no true samples.\n",
      "  'recall', 'true', average, warn_for)\n",
      "C:\\Users\\alperdokay\\AppData\\Local\\Continuum\\anaconda3\\lib\\site-packages\\sklearn\\metrics\\classification.py:1439: UndefinedMetricWarning: Recall and F-score are ill-defined and being set to 0.0 in labels with no true samples.\n",
      "  'recall', 'true', average, warn_for)\n",
      "C:\\Users\\alperdokay\\AppData\\Local\\Continuum\\anaconda3\\lib\\site-packages\\sklearn\\metrics\\classification.py:1439: UndefinedMetricWarning: Recall and F-score are ill-defined and being set to 0.0 in labels with no true samples.\n",
      "  'recall', 'true', average, warn_for)\n",
      "C:\\Users\\alperdokay\\AppData\\Local\\Continuum\\anaconda3\\lib\\site-packages\\sklearn\\metrics\\classification.py:1439: UndefinedMetricWarning: Recall and F-score are ill-defined and being set to 0.0 in labels with no true samples.\n",
      "  'recall', 'true', average, warn_for)\n",
      "C:\\Users\\alperdokay\\AppData\\Local\\Continuum\\anaconda3\\lib\\site-packages\\sklearn\\metrics\\classification.py:1439: UndefinedMetricWarning: Recall and F-score are ill-defined and being set to 0.0 in labels with no true samples.\n",
      "  'recall', 'true', average, warn_for)\n",
      "C:\\Users\\alperdokay\\AppData\\Local\\Continuum\\anaconda3\\lib\\site-packages\\sklearn\\metrics\\classification.py:1439: UndefinedMetricWarning: Recall and F-score are ill-defined and being set to 0.0 in labels with no true samples.\n",
      "  'recall', 'true', average, warn_for)\n",
      "C:\\Users\\alperdokay\\AppData\\Local\\Continuum\\anaconda3\\lib\\site-packages\\sklearn\\metrics\\classification.py:1439: UndefinedMetricWarning: Recall and F-score are ill-defined and being set to 0.0 in labels with no true samples.\n",
      "  'recall', 'true', average, warn_for)\n",
      "C:\\Users\\alperdokay\\AppData\\Local\\Continuum\\anaconda3\\lib\\site-packages\\sklearn\\metrics\\classification.py:1439: UndefinedMetricWarning: Recall and F-score are ill-defined and being set to 0.0 in labels with no true samples.\n",
      "  'recall', 'true', average, warn_for)\n"
     ]
    }
   ],
   "source": [
    "svm_results = []\n",
    "kf = StratifiedKFold(n_splits=10, random_state=43)\n",
    "svm_split = SVC(gamma='auto')\n",
    "for train_index, test_index in kf.split(np.nan_to_num(X_df), np_y_new):\n",
    "        X_train, y_train= np.nan_to_num(X_df)[train_index], np_y_new[train_index]\n",
    "        X_test, y_test= np.nan_to_num(X_df)[test_index], np_y_new[test_index]\n",
    "        \n",
    "        clf = svm_split.fit(X_train, y_train)\n",
    "        # print(classification_report(clf.predict(X_test), y_test))\n",
    "        svm_results.append(classification_report(clf.predict(X_test), y_test))"
   ]
  },
  {
   "cell_type": "markdown",
   "metadata": {},
   "source": [
    "# Logistic Regression Fold Based Scores"
   ]
  },
  {
   "cell_type": "code",
   "execution_count": 27,
   "metadata": {},
   "outputs": [
    {
     "name": "stdout",
     "output_type": "stream",
     "text": [
      "              precision    recall  f1-score   support\n",
      "\n",
      "           0       0.88      0.88      0.88         8\n",
      "           1       0.93      0.93      0.93        14\n",
      "\n",
      "    accuracy                           0.91        22\n",
      "   macro avg       0.90      0.90      0.90        22\n",
      "weighted avg       0.91      0.91      0.91        22\n",
      "\n",
      "              precision    recall  f1-score   support\n",
      "\n",
      "           0       0.62      1.00      0.77         5\n",
      "           1       1.00      0.82      0.90        17\n",
      "\n",
      "    accuracy                           0.86        22\n",
      "   macro avg       0.81      0.91      0.84        22\n",
      "weighted avg       0.91      0.86      0.87        22\n",
      "\n",
      "              precision    recall  f1-score   support\n",
      "\n",
      "           0       0.75      1.00      0.86         6\n",
      "           1       1.00      0.88      0.93        16\n",
      "\n",
      "    accuracy                           0.91        22\n",
      "   macro avg       0.88      0.94      0.90        22\n",
      "weighted avg       0.93      0.91      0.91        22\n",
      "\n",
      "              precision    recall  f1-score   support\n",
      "\n",
      "           0       0.75      0.86      0.80         7\n",
      "           1       0.93      0.87      0.90        15\n",
      "\n",
      "    accuracy                           0.86        22\n",
      "   macro avg       0.84      0.86      0.85        22\n",
      "weighted avg       0.87      0.86      0.87        22\n",
      "\n",
      "              precision    recall  f1-score   support\n",
      "\n",
      "           0       0.75      1.00      0.86         6\n",
      "           1       1.00      0.88      0.93        16\n",
      "\n",
      "    accuracy                           0.91        22\n",
      "   macro avg       0.88      0.94      0.90        22\n",
      "weighted avg       0.93      0.91      0.91        22\n",
      "\n",
      "              precision    recall  f1-score   support\n",
      "\n",
      "           0       0.75      0.60      0.67        10\n",
      "           1       0.71      0.83      0.77        12\n",
      "\n",
      "    accuracy                           0.73        22\n",
      "   macro avg       0.73      0.72      0.72        22\n",
      "weighted avg       0.73      0.73      0.72        22\n",
      "\n",
      "              precision    recall  f1-score   support\n",
      "\n",
      "           0       0.86      0.86      0.86         7\n",
      "           1       0.93      0.93      0.93        14\n",
      "\n",
      "    accuracy                           0.90        21\n",
      "   macro avg       0.89      0.89      0.89        21\n",
      "weighted avg       0.90      0.90      0.90        21\n",
      "\n",
      "              precision    recall  f1-score   support\n",
      "\n",
      "           0       1.00      1.00      1.00         7\n",
      "           1       1.00      1.00      1.00        14\n",
      "\n",
      "    accuracy                           1.00        21\n",
      "   macro avg       1.00      1.00      1.00        21\n",
      "weighted avg       1.00      1.00      1.00        21\n",
      "\n",
      "              precision    recall  f1-score   support\n",
      "\n",
      "           0       0.71      0.71      0.71         7\n",
      "           1       0.85      0.85      0.85        13\n",
      "\n",
      "    accuracy                           0.80        20\n",
      "   macro avg       0.78      0.78      0.78        20\n",
      "weighted avg       0.80      0.80      0.80        20\n",
      "\n",
      "              precision    recall  f1-score   support\n",
      "\n",
      "           0       1.00      0.78      0.88         9\n",
      "           1       0.85      1.00      0.92        11\n",
      "\n",
      "    accuracy                           0.90        20\n",
      "   macro avg       0.92      0.89      0.90        20\n",
      "weighted avg       0.92      0.90      0.90        20\n",
      "\n"
     ]
    }
   ],
   "source": [
    "for item in logreg_results:\n",
    "    print(item)"
   ]
  },
  {
   "cell_type": "markdown",
   "metadata": {},
   "source": [
    "# Random Forest Fold Based Scores"
   ]
  },
  {
   "cell_type": "code",
   "execution_count": 28,
   "metadata": {},
   "outputs": [
    {
     "name": "stdout",
     "output_type": "stream",
     "text": [
      "              precision    recall  f1-score   support\n",
      "\n",
      "           0       0.62      1.00      0.77         5\n",
      "           1       1.00      0.82      0.90        17\n",
      "\n",
      "    accuracy                           0.86        22\n",
      "   macro avg       0.81      0.91      0.84        22\n",
      "weighted avg       0.91      0.86      0.87        22\n",
      "\n",
      "              precision    recall  f1-score   support\n",
      "\n",
      "           0       0.62      1.00      0.77         5\n",
      "           1       1.00      0.82      0.90        17\n",
      "\n",
      "    accuracy                           0.86        22\n",
      "   macro avg       0.81      0.91      0.84        22\n",
      "weighted avg       0.91      0.86      0.87        22\n",
      "\n",
      "              precision    recall  f1-score   support\n",
      "\n",
      "           0       0.50      1.00      0.67         4\n",
      "           1       1.00      0.78      0.88        18\n",
      "\n",
      "    accuracy                           0.82        22\n",
      "   macro avg       0.75      0.89      0.77        22\n",
      "weighted avg       0.91      0.82      0.84        22\n",
      "\n",
      "              precision    recall  f1-score   support\n",
      "\n",
      "           0       0.75      1.00      0.86         6\n",
      "           1       1.00      0.88      0.93        16\n",
      "\n",
      "    accuracy                           0.91        22\n",
      "   macro avg       0.88      0.94      0.90        22\n",
      "weighted avg       0.93      0.91      0.91        22\n",
      "\n",
      "              precision    recall  f1-score   support\n",
      "\n",
      "           0       0.50      1.00      0.67         4\n",
      "           1       1.00      0.78      0.88        18\n",
      "\n",
      "    accuracy                           0.82        22\n",
      "   macro avg       0.75      0.89      0.77        22\n",
      "weighted avg       0.91      0.82      0.84        22\n",
      "\n",
      "              precision    recall  f1-score   support\n",
      "\n",
      "           0       1.00      1.00      1.00         8\n",
      "           1       1.00      1.00      1.00        14\n",
      "\n",
      "    accuracy                           1.00        22\n",
      "   macro avg       1.00      1.00      1.00        22\n",
      "weighted avg       1.00      1.00      1.00        22\n",
      "\n",
      "              precision    recall  f1-score   support\n",
      "\n",
      "           0       0.86      0.86      0.86         7\n",
      "           1       0.93      0.93      0.93        14\n",
      "\n",
      "    accuracy                           0.90        21\n",
      "   macro avg       0.89      0.89      0.89        21\n",
      "weighted avg       0.90      0.90      0.90        21\n",
      "\n",
      "              precision    recall  f1-score   support\n",
      "\n",
      "           0       1.00      1.00      1.00         7\n",
      "           1       1.00      1.00      1.00        14\n",
      "\n",
      "    accuracy                           1.00        21\n",
      "   macro avg       1.00      1.00      1.00        21\n",
      "weighted avg       1.00      1.00      1.00        21\n",
      "\n",
      "              precision    recall  f1-score   support\n",
      "\n",
      "           0       0.71      1.00      0.83         5\n",
      "           1       1.00      0.87      0.93        15\n",
      "\n",
      "    accuracy                           0.90        20\n",
      "   macro avg       0.86      0.93      0.88        20\n",
      "weighted avg       0.93      0.90      0.90        20\n",
      "\n",
      "              precision    recall  f1-score   support\n",
      "\n",
      "           0       1.00      0.64      0.78        11\n",
      "           1       0.69      1.00      0.82         9\n",
      "\n",
      "    accuracy                           0.80        20\n",
      "   macro avg       0.85      0.82      0.80        20\n",
      "weighted avg       0.86      0.80      0.80        20\n",
      "\n"
     ]
    }
   ],
   "source": [
    "for item in rf_results:\n",
    "    print(item)"
   ]
  },
  {
   "cell_type": "markdown",
   "metadata": {},
   "source": [
    "# SVM Fold Based Scores"
   ]
  },
  {
   "cell_type": "code",
   "execution_count": 29,
   "metadata": {},
   "outputs": [
    {
     "name": "stdout",
     "output_type": "stream",
     "text": [
      "              precision    recall  f1-score   support\n",
      "\n",
      "           0       0.00      0.00      0.00         0\n",
      "           1       1.00      0.64      0.78        22\n",
      "\n",
      "    accuracy                           0.64        22\n",
      "   macro avg       0.50      0.32      0.39        22\n",
      "weighted avg       1.00      0.64      0.78        22\n",
      "\n",
      "              precision    recall  f1-score   support\n",
      "\n",
      "           0       0.00      0.00      0.00         0\n",
      "           1       1.00      0.64      0.78        22\n",
      "\n",
      "    accuracy                           0.64        22\n",
      "   macro avg       0.50      0.32      0.39        22\n",
      "weighted avg       1.00      0.64      0.78        22\n",
      "\n",
      "              precision    recall  f1-score   support\n",
      "\n",
      "           0       0.00      0.00      0.00         0\n",
      "           1       1.00      0.64      0.78        22\n",
      "\n",
      "    accuracy                           0.64        22\n",
      "   macro avg       0.50      0.32      0.39        22\n",
      "weighted avg       1.00      0.64      0.78        22\n",
      "\n",
      "              precision    recall  f1-score   support\n",
      "\n",
      "           0       0.00      0.00      0.00         0\n",
      "           1       1.00      0.64      0.78        22\n",
      "\n",
      "    accuracy                           0.64        22\n",
      "   macro avg       0.50      0.32      0.39        22\n",
      "weighted avg       1.00      0.64      0.78        22\n",
      "\n",
      "              precision    recall  f1-score   support\n",
      "\n",
      "           0       0.00      0.00      0.00         0\n",
      "           1       1.00      0.64      0.78        22\n",
      "\n",
      "    accuracy                           0.64        22\n",
      "   macro avg       0.50      0.32      0.39        22\n",
      "weighted avg       1.00      0.64      0.78        22\n",
      "\n",
      "              precision    recall  f1-score   support\n",
      "\n",
      "           0       0.00      0.00      0.00         0\n",
      "           1       1.00      0.64      0.78        22\n",
      "\n",
      "    accuracy                           0.64        22\n",
      "   macro avg       0.50      0.32      0.39        22\n",
      "weighted avg       1.00      0.64      0.78        22\n",
      "\n",
      "              precision    recall  f1-score   support\n",
      "\n",
      "           0       0.00      0.00      0.00         0\n",
      "           1       1.00      0.67      0.80        21\n",
      "\n",
      "    accuracy                           0.67        21\n",
      "   macro avg       0.50      0.33      0.40        21\n",
      "weighted avg       1.00      0.67      0.80        21\n",
      "\n",
      "              precision    recall  f1-score   support\n",
      "\n",
      "           0       0.00      0.00      0.00         0\n",
      "           1       1.00      0.67      0.80        21\n",
      "\n",
      "    accuracy                           0.67        21\n",
      "   macro avg       0.50      0.33      0.40        21\n",
      "weighted avg       1.00      0.67      0.80        21\n",
      "\n",
      "              precision    recall  f1-score   support\n",
      "\n",
      "           0       0.00      0.00      0.00         0\n",
      "           1       1.00      0.65      0.79        20\n",
      "\n",
      "    accuracy                           0.65        20\n",
      "   macro avg       0.50      0.33      0.39        20\n",
      "weighted avg       1.00      0.65      0.79        20\n",
      "\n",
      "              precision    recall  f1-score   support\n",
      "\n",
      "           0       0.00      0.00      0.00         0\n",
      "           1       1.00      0.65      0.79        20\n",
      "\n",
      "    accuracy                           0.65        20\n",
      "   macro avg       0.50      0.33      0.39        20\n",
      "weighted avg       1.00      0.65      0.79        20\n",
      "\n"
     ]
    }
   ],
   "source": [
    "for item in svm_results:\n",
    "    print(item)"
   ]
  },
  {
   "cell_type": "code",
   "execution_count": 30,
   "metadata": {},
   "outputs": [
    {
     "data": {
      "text/html": [
       "<div>\n",
       "<style scoped>\n",
       "    .dataframe tbody tr th:only-of-type {\n",
       "        vertical-align: middle;\n",
       "    }\n",
       "\n",
       "    .dataframe tbody tr th {\n",
       "        vertical-align: top;\n",
       "    }\n",
       "\n",
       "    .dataframe thead th {\n",
       "        text-align: right;\n",
       "    }\n",
       "</style>\n",
       "<table border=\"1\" class=\"dataframe\">\n",
       "  <thead>\n",
       "    <tr style=\"text-align: right;\">\n",
       "      <th></th>\n",
       "      <th>classifiers</th>\n",
       "      <th>mean</th>\n",
       "    </tr>\n",
       "  </thead>\n",
       "  <tbody>\n",
       "    <tr>\n",
       "      <td>1</td>\n",
       "      <td>rf</td>\n",
       "      <td>0.888</td>\n",
       "    </tr>\n",
       "    <tr>\n",
       "      <td>0</td>\n",
       "      <td>logreg</td>\n",
       "      <td>0.879</td>\n",
       "    </tr>\n",
       "    <tr>\n",
       "      <td>2</td>\n",
       "      <td>svm</td>\n",
       "      <td>0.645</td>\n",
       "    </tr>\n",
       "  </tbody>\n",
       "</table>\n",
       "</div>"
      ],
      "text/plain": [
       "  classifiers   mean\n",
       "1          rf  0.888\n",
       "0      logreg  0.879\n",
       "2         svm  0.645"
      ]
     },
     "execution_count": 30,
     "metadata": {},
     "output_type": "execute_result"
    },
    {
     "data": {
      "image/png": "[encoded data removed]",
      "text/plain": [
       "<Figure size 432x288 with 1 Axes>"
      ]
     },
     "metadata": {
      "needs_background": "light"
     },
     "output_type": "display_data"
    }
   ],
   "source": [
    "df = pd.DataFrame({'classifiers': ['logreg', 'rf', 'svm'], 'mean': [log_scores.mean().round(3), rf_scores.mean().round(3),svm_scores.mean().round(3)]})\n",
    "ax = df.plot.bar(x='classifiers', y='mean', rot=0)\n",
    "df.sort_values('mean', ascending=False)"
   ]
  },
  {
   "cell_type": "code",
   "execution_count": null,
   "metadata": {},
   "outputs": [],
   "source": []
  },
  {
   "cell_type": "code",
   "execution_count": null,
   "metadata": {},
   "outputs": [],
   "source": []
  }
 ],
 "metadata": {
  "kernelspec": {
   "display_name": "Python 3",
   "language": "python",
   "name": "python3"
  },
  "language_info": {
   "codemirror_mode": {
    "name": "ipython",
    "version": 3
   },
   "file_extension": ".py",
   "mimetype": "text/x-python",
   "name": "python",
   "nbconvert_exporter": "python",
   "pygments_lexer": "ipython3",
   "version": "3.7.4"
  }
 },
 "nbformat": 4,
 "nbformat_minor": 2
}
